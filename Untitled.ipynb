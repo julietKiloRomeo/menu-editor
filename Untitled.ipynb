{
 "cells": [
  {
   "cell_type": "code",
   "execution_count": 1,
   "id": "be930297-93b2-4aea-9e3f-0a18708c65a0",
   "metadata": {},
   "outputs": [],
   "source": [
    "import pathlib\n",
    "import yaml\n",
    "import db"
   ]
  },
  {
   "cell_type": "code",
   "execution_count": 6,
   "id": "a283df7e-dbd3-4338-91a1-0b68e689ad93",
   "metadata": {},
   "outputs": [
    {
     "data": {
      "text/plain": [
       "<enum 'Rating'>"
      ]
     },
     "execution_count": 6,
     "metadata": {},
     "output_type": "execute_result"
    }
   ],
   "source": [
    "from enum import Enum, IntEnum\n",
    "\n",
    "# load enum defs from yaml to share with svelte\n",
    "\n",
    "enum_dicts = {\n",
    "    \"Rating\": {\"type\":\"int\", \"values\": [1,2,3,4,5]},\n",
    "    \"Category\": {\"type\":\"str\", \"values\": [\"kød\", \"køl\", \"tilbehør\", \"øl\", \"frys\", \"frugt\", ]},\n",
    "    \"Unit\": {\"type\":\"str\", \"values\": [\"g\", \"kg\", \"l\", \"ml\", \"dl\", \"spsk\", \"tsk\", \"stk\", \"plates\", \"flasker\", \"portioner\"]},\n",
    "}\n",
    "\n",
    "\n",
    "enum_constructor = {\n",
    "    \"str\": Enum,\n",
    "    \"int\": IntEnum,\n",
    "}\n",
    "\n",
    "enums = {name: enum_constructor[definition[\"type\"]](name, \" \".join(map( lambda v: str(v), definition[\"values\"]))) for name, definition in enum_dicts.items()}\n",
    "\n",
    "\n"
   ]
  },
  {
   "cell_type": "code",
   "execution_count": 8,
   "id": "a264f5b1-698e-4e3d-8624-c3abef731d96",
   "metadata": {},
   "outputs": [
    {
     "data": {
      "text/plain": [
       "{'man': 'mon',\n",
       " 'mandag': 'mon',\n",
       " 'tirs': 'tue',\n",
       " 'tirsdag': 'tue',\n",
       " 'ons': 'wed',\n",
       " 'onsdag': 'wed',\n",
       " 'tors': 'thu',\n",
       " 'torsdag': 'thu',\n",
       " 'fre': 'fri',\n",
       " 'fredag': 'fri',\n",
       " 'lør': 'sat',\n",
       " 'lørdag': 'sat',\n",
       " 'søn': 'sun',\n",
       " 'søndag': 'sun'}"
      ]
     },
     "execution_count": 8,
     "metadata": {},
     "output_type": "execute_result"
    }
   ],
   "source": [
    "day_map = {\n",
    "    \"mon\": \"man\",\n",
    "    \"tue\": \"tirs\",\n",
    "    \"wed\": \"ons\",\n",
    "    \"thu\": \"tors\",\n",
    "    \"fri\": \"fre\",\n",
    "    \"sat\": \"lør\",\n",
    "    \"sun\": \"søn\",\n",
    "}\n",
    "\n",
    "map_day = {}\n",
    "for en, dk in day_map.items():\n",
    "    map_day[dk] = en\n",
    "    map_day[dk+\"dag\"] = en\n",
    "map_day    "
   ]
  },
  {
   "cell_type": "code",
   "execution_count": 23,
   "id": "65059c51-4332-4684-af43-034e3b870f57",
   "metadata": {},
   "outputs": [
    {
     "data": {
      "text/plain": [
       "{'name': 'uge_31_2021',\n",
       " 'rating': 0,\n",
       " 'used': ['uge_31_2021'],\n",
       " 'menus': [{'title': 'Jordskokkesuppe',\n",
       "   'days': [],\n",
       "   'parts': [{'ingredient': 'jordskokkesuppe',\n",
       "     'amount': 4,\n",
       "     'unit': 'plates'}]},\n",
       "  {'title': 'Pita med karry fyld',\n",
       "   'days': [],\n",
       "   'parts': [{'ingredient': 'karry_kødfyld', 'amount': 8, 'unit': 'plates'},\n",
       "    {'ingredient': 'købepitabrød', 'amount': 8, 'unit': 'stk'},\n",
       "    {'ingredient': 'agurk', 'amount': 250, 'unit': 'g'},\n",
       "    {'ingredient': 'rød peber', 'amount': 1, 'unit': 'stk'},\n",
       "    {'ingredient': 'revet ost', 'amount': 200, 'unit': 'g'},\n",
       "    {'ingredient': 'creme fraiche', 'amount': 2, 'unit': 'dl'}]},\n",
       "  {'title': 'Chili',\n",
       "   'days': [],\n",
       "   'parts': [{'ingredient': 'chili_con_carne', 'amount': 8, 'unit': 'plates'},\n",
       "    {'ingredient': 'ris', 'amount': 8, 'unit': 'plates'},\n",
       "    {'ingredient': 'revet ost', 'amount': 300, 'unit': 'g'},\n",
       "    {'ingredient': 'creme fraiche', 'amount': 4, 'unit': 'dl'}]},\n",
       "  {'title': 'Kotetter i fad',\n",
       "   'days': [],\n",
       "   'parts': [{'ingredient': 'koteletter_i_fad',\n",
       "     'amount': 8,\n",
       "     'unit': 'plates'}]}]}"
      ]
     },
     "execution_count": 23,
     "metadata": {},
     "output_type": "execute_result"
    }
   ],
   "source": [
    "\n",
    "\n",
    "def convert_plan(path):\n",
    "    with path.open(\"r\") as f:\n",
    "        plan = yaml.load(f, Loader=yaml.FullLoader)\n",
    "    \n",
    "    name = path.stem\n",
    "    rating = 0\n",
    "\n",
    "    menus = []\n",
    "\n",
    "\n",
    "    for title, parts in plan.items():\n",
    "        if title == \"Andet\":\n",
    "            continue\n",
    "        \n",
    "        try:\n",
    "            title, days = title.replace(\")\", \"\").split(\"(\")\n",
    "            days = [map_day[day] for day in days.split(\"+\")]\n",
    "        except:\n",
    "            days = []\n",
    "        \n",
    "        title = title.strip()\n",
    "\n",
    "        parts = [ {\"ingredient\": ingredient, **amount} for part in parts for ingredient, amount in part.items()]\n",
    "\n",
    "        menus.append(\n",
    "            {\n",
    "                \"title\": title,\n",
    "                \"days\" : days,\n",
    "                \"parts\": parts \n",
    "            }\n",
    "        )\n",
    "\n",
    "    return {\n",
    "        \"name\": name,\n",
    "        \"rating\": rating,\n",
    "        \"used\": [name],\n",
    "        \"menus\": menus,\n",
    "    }\n",
    "\n",
    "converted_plans = []\n",
    "for path in pathlib.Path(\"/home/jkr/projects/recipes/menus/\").glob(\"*\"):\n",
    "\n",
    "    try:\n",
    "        plan = convert_plan(path)\n",
    "    except:\n",
    "        with path.open(\"r\") as f:\n",
    "            plan = yaml.load(f, Loader=yaml.FullLoader)\n",
    "        break\n",
    "    converted_plans.append(plan)\n",
    "\n",
    "converted_plans[10]"
   ]
  },
  {
   "cell_type": "code",
   "execution_count": 43,
   "id": "2df3dd87-92ff-4f24-aff6-aa0b6fd48458",
   "metadata": {},
   "outputs": [],
   "source": [
    "from collections import defaultdict\n",
    "dupes = defaultdict(list)\n",
    "\n",
    "for i, rec in enumerate(converted_plans):\n",
    "    \n",
    "    summary = frozenset({part[\"ingredient\"] for menu in rec[\"menus\"] for part in menu[\"parts\"] if part[\"unit\"] == \"plates\"})\n",
    "    \n",
    "    dupes[summary].append(i)"
   ]
  },
  {
   "cell_type": "code",
   "execution_count": 47,
   "id": "52d82706-e607-4c8c-adac-28a60c12e86a",
   "metadata": {},
   "outputs": [],
   "source": [
    "database = db.DB()\n",
    "\n",
    "plan_table = database._db.table(\"plan\")\n",
    "    \n",
    "for plan in converted_plans:\n",
    "    plan_table.insert(plan)"
   ]
  },
  {
   "cell_type": "code",
   "execution_count": 63,
   "id": "ae8b0f59-4266-4bd3-a286-6497b6b17221",
   "metadata": {},
   "outputs": [
    {
     "data": {
      "text/plain": [
       "'fredag'"
      ]
     },
     "execution_count": 63,
     "metadata": {},
     "output_type": "execute_result"
    }
   ],
   "source": [
    "name, days = savedtitle.replace(\")\", \"\").split(\"(\")\n",
    "days[:-1].split(\"+\")\n",
    "days\n"
   ]
  },
  {
   "cell_type": "code",
   "execution_count": 37,
   "id": "92bc7112-a73a-4dee-8542-5efb2b4a492f",
   "metadata": {},
   "outputs": [],
   "source": [
    "def convert_recipe(path):\n",
    "    \n",
    "    with path.open(\"r\") as f:\n",
    "        recipe = yaml.load(f, Loader=yaml.FullLoader)\n",
    "    \n",
    "    NAME_MAP = {\n",
    "        \"navn\": \"name\",\n",
    "        \"antal\": \"plates\",\n",
    "        \"placering\": \"placement\",\n",
    "    }\n",
    "    \n",
    "    rec = {NAME_MAP[k]:v for k,v in recipe.items() if not k==\"ingredienser\"}\n",
    "    \n",
    "    rec[\"ingredients\"] = [ {\"ingredient\": ingredient, **amount}  for ingredient, amount in recipe[\"ingredienser\"].items()]\n",
    "    rec[\"rating\"] = 0\n",
    "    \n",
    "    return rec\n",
    "\n",
    "recipes = map(\n",
    "    convert_recipe,\n",
    "    pathlib.Path(\"/home/jkr/projects/recipes/recipes\").glob(\"*\"),\n",
    ")\n",
    "\n"
   ]
  },
  {
   "cell_type": "code",
   "execution_count": 38,
   "id": "31d0421f-fb32-4841-b1e7-79883232d6d4",
   "metadata": {},
   "outputs": [],
   "source": [
    "database = db.DB()\n",
    "\n",
    "recipe_table = database._db.table(\"recipe\")\n",
    "    \n",
    "for rec in recipes:\n",
    "    recipe_table.insert(rec)"
   ]
  },
  {
   "cell_type": "code",
   "execution_count": 53,
   "id": "81c90829-2073-4eb3-93b9-7302818a3524",
   "metadata": {},
   "outputs": [
    {
     "data": {
      "text/plain": [
       "[{'name': 'Blomkålssalat med æbler og mandler',\n",
       "  'placement': 'Valdemarsro side 306',\n",
       "  'plates': 4,\n",
       "  'ingredients': [{'ingredient': 'blomkål', 'amount': 1, 'unit': 'stk'},\n",
       "   {'ingredient': 'saltede mandler', 'amount': 0.5, 'unit': 'dl'},\n",
       "   {'ingredient': 'æble', 'amount': 1, 'unit': 'stk'},\n",
       "   {'ingredient': 'blåbær', 'amount': 1, 'unit': 'dl'},\n",
       "   {'ingredient': 'bredbladet persille', 'amount': 1, 'unit': 'bundt'},\n",
       "   {'ingredient': 'grøn pesto', 'amount': 1, 'unit': 'dl'},\n",
       "   {'ingredient': 'creme fraiche', 'amount': 0.5, 'unit': 'dl'},\n",
       "   {'ingredient': 'honning', 'amount': 1, 'unit': 'tsk'}],\n",
       "  'rating': 0},\n",
       " {'plates': 4,\n",
       "  'name': 'Blomkålssuppe',\n",
       "  'placement': 'valdemarsro s. 98',\n",
       "  'ingredients': [{'ingredient': 'blomkål', 'amount': 1.0, 'unit': 'stk'},\n",
       "   {'ingredient': 'citron', 'amount': 1.0, 'unit': 'stk'},\n",
       "   {'ingredient': 'frisk timian', 'amount': 3.0, 'unit': 'kviste'},\n",
       "   {'ingredient': 'groft brød', 'amount': 6.0, 'unit': 'skiver'},\n",
       "   {'ingredient': 'græskarkerner', 'amount': 3.0, 'unit': 'spsk'},\n",
       "   {'ingredient': 'grøntsagsbouillon', 'amount': 1.0, 'unit': 'l'},\n",
       "   {'ingredient': 'hampefrø', 'amount': 2.0, 'unit': 'spsk'},\n",
       "   {'ingredient': 'hvidløg', 'amount': 1.0, 'unit': 'fed'},\n",
       "   {'ingredient': 'ingefær', 'amount': 1.0, 'unit': 'tsk'},\n",
       "   {'ingredient': 'muskatnød', 'amount': 1.0, 'unit': 'g'},\n",
       "   {'ingredient': 'olivenolie', 'amount': 2.0, 'unit': 'spsk'},\n",
       "   {'ingredient': 'piskefløde', 'amount': 0.5, 'unit': 'dl'},\n",
       "   {'ingredient': 'sesamfrø', 'amount': 3.0, 'unit': 'spsk'},\n",
       "   {'ingredient': 'valnødder', 'amount': 3.0, 'unit': 'spsk'},\n",
       "   {'ingredient': 'vanillepulver', 'amount': 1.0, 'unit': 'kvsps'}],\n",
       "  'rating': 0}]"
      ]
     },
     "execution_count": 53,
     "metadata": {},
     "output_type": "execute_result"
    }
   ],
   "source": [
    "recipe_table = database._db.table(\"recipe\")\n",
    "\n",
    "[rec for rec in recipe_table.all() if \"blomkål\" in rec[\"name\"].lower()]\n"
   ]
  },
  {
   "cell_type": "code",
   "execution_count": 49,
   "id": "b9a47e3f-422b-4d3a-8b72-301bf12326f9",
   "metadata": {},
   "outputs": [],
   "source": [
    "path = pathlib.Path(\"/home/jkr/projects/recipes/config.yml\")\n",
    "\n",
    "with path.open(\"r\") as f:\n",
    "    config = yaml.load(f, Loader=yaml.FullLoader)\n",
    "\n",
    "table = database._db.table(\"ingredient\")\n",
    "    \n",
    "for name, category in config[\"varer\"].items():\n",
    "    \n",
    "    rec = {\n",
    "        \"name\":name,\n",
    "        \"category\":category,\n",
    "        \"alii\":[],\n",
    "    }\n",
    "    table.insert(rec)\n",
    "    \n",
    "    \n",
    "\n",
    "\n"
   ]
  }
 ],
 "metadata": {
  "kernelspec": {
   "display_name": "Python 3 (ipykernel)",
   "language": "python",
   "name": "python3"
  },
  "language_info": {
   "codemirror_mode": {
    "name": "ipython",
    "version": 3
   },
   "file_extension": ".py",
   "mimetype": "text/x-python",
   "name": "python",
   "nbconvert_exporter": "python",
   "pygments_lexer": "ipython3",
   "version": "3.10.0"
  }
 },
 "nbformat": 4,
 "nbformat_minor": 5
}
