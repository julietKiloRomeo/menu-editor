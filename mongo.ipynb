{
 "cells": [
  {
   "cell_type": "code",
   "execution_count": 1,
   "id": "framed-saturday",
   "metadata": {},
   "outputs": [],
   "source": [
    "import pymongo"
   ]
  },
  {
   "cell_type": "code",
   "execution_count": 2,
   "id": "specialized-range",
   "metadata": {},
   "outputs": [],
   "source": [
    "from pymongo import MongoClient\n",
    "\n",
    "client = MongoClient('mongodb://localhost:27017')"
   ]
  },
  {
   "cell_type": "code",
   "execution_count": 3,
   "id": "hawaiian-europe",
   "metadata": {},
   "outputs": [],
   "source": [
    "db = client.flaskdb"
   ]
  },
  {
   "cell_type": "code",
   "execution_count": null,
   "id": "virtual-pittsburgh",
   "metadata": {},
   "outputs": [],
   "source": [
    "list(db.ingredients.find())\n"
   ]
  },
  {
   "cell_type": "code",
   "execution_count": 5,
   "id": "respiratory-fortune",
   "metadata": {},
   "outputs": [],
   "source": [
    "import yaml\n",
    "import pathlib\n",
    "\n",
    "with pathlib.Path(\"config.yml\").open(\"r\") as f:\n",
    "    ingredients = yaml.load(f, Loader=yaml.FullLoader)\n",
    "\n",
    "db.ingredients.delete_many({})\n",
    "\n",
    "for name, cat in ingredients[\"varer\"].items():\n",
    "    db.ingredients.insert_one(\n",
    "        {\n",
    "            \"name\":name,\n",
    "            \"placement\":cat,\n",
    "        }\n",
    "    )\n"
   ]
  },
  {
   "cell_type": "code",
   "execution_count": 6,
   "id": "homeless-charles",
   "metadata": {},
   "outputs": [
    {
     "data": {
      "text/plain": [
       "{'navn': 'Grove pølser med æblesaute og mos',\n",
       " 'placering': 'Tung mad / gris',\n",
       " 'antal': 4,\n",
       " 'ingredienser': {'grove pølser': {'amount': 6, 'unit': 'stk'},\n",
       "  'æbler': {'amount': 2, 'unit': 'stk'},\n",
       "  'rød peberfrugt': {'amount': 2, 'unit': 'stk'},\n",
       "  'porre': {'amount': 2, 'unit': 'stk'},\n",
       "  'hvidløg': {'amount': 2, 'unit': 'fed'},\n",
       "  'tørret timian': {'amount': 2, 'unit': 'tsk'},\n",
       "  'rapsolie': {'amount': 10, 'unit': 'ml'},\n",
       "  'kartofler': {'amount': 600, 'unit': 'g'},\n",
       "  'hønsebouillon': {'amount': 3, 'unit': 'stk'},\n",
       "  'sennep': {'amount': 1, 'unit': 'dl'}},\n",
       " '_id': ObjectId('609e6c5c7316c730384a965a')}"
      ]
     },
     "execution_count": 6,
     "metadata": {},
     "output_type": "execute_result"
    }
   ],
   "source": [
    "db.recipes.delete_many({})\n",
    "\n",
    "for recipe in pathlib.Path(\"recipes/\").glob(\"*.yml\"):\n",
    "    with recipe.open(\"r\") as f:\n",
    "        recipe = yaml.load(f, Loader=yaml.FullLoader)\n",
    "        db.recipes.insert_one(recipe)\n",
    "recipe\n",
    "\n"
   ]
  },
  {
   "cell_type": "code",
   "execution_count": 7,
   "id": "brave-executive",
   "metadata": {},
   "outputs": [],
   "source": [
    "db.menus.delete_many({})\n",
    "\n",
    "def flatten(d):\n",
    "    try:\n",
    "        for k, v in d.items():\n",
    "            yield {\"name\":k, **v}\n",
    "    except:\n",
    "        raise\n",
    "\n",
    "for menu_path in pathlib.Path(\"menus/\").glob(\"*.yaml\"):\n",
    "    try:\n",
    "        _, w, y = menu_path.stem.split(\"_\")\n",
    "    except:\n",
    "        continue\n",
    "    w = int(w)\n",
    "    y = int(y)\n",
    "    \n",
    "    with menu_path.open(\"r\") as f:\n",
    "        menu = yaml.load(f, Loader=yaml.FullLoader)\n",
    "        \n",
    "        menu_dict = {\n",
    "            \"week\":w,\n",
    "            \"year\":y,\n",
    "            \"dishes\":[\n",
    "            {\n",
    "                \"title\": title,\n",
    "                \"days\": [],\n",
    "                \"components\": [list(flatten(d))[0] for d in definition],\n",
    "            } for title, definition in menu.items()\n",
    "            ],\n",
    "        }\n",
    "\n",
    "        db.menus.insert_one(menu_dict)\n"
   ]
  },
  {
   "cell_type": "code",
   "execution_count": 16,
   "id": "postal-alignment",
   "metadata": {},
   "outputs": [
    {
     "name": "stdout",
     "output_type": "stream",
     "text": [
      "dict_keys(['_id', 'week', 'year', 'dishes'])\n",
      " week 6 2021 \n"
     ]
    }
   ],
   "source": [
    "menu = db.menus.find_one({\"week\":6})\n",
    "\n",
    "import pprint\n",
    "pp = pprint.PrettyPrinter(indent=4)\n",
    "pp.pprint(menu.keys())\n",
    "\n",
    "print(f\" week {menu['week']} {menu['year']} \")\n",
    "\n"
   ]
  },
  {
   "cell_type": "code",
   "execution_count": null,
   "id": "nearby-oregon",
   "metadata": {},
   "outputs": [],
   "source": []
  }
 ],
 "metadata": {
  "kernelspec": {
   "display_name": "Python 3 (ipykernel)",
   "language": "python",
   "name": "python3"
  },
  "language_info": {
   "codemirror_mode": {
    "name": "ipython",
    "version": 3
   },
   "file_extension": ".py",
   "mimetype": "text/x-python",
   "name": "python",
   "nbconvert_exporter": "python",
   "pygments_lexer": "ipython3",
   "version": "3.9.13"
  }
 },
 "nbformat": 4,
 "nbformat_minor": 5
}
